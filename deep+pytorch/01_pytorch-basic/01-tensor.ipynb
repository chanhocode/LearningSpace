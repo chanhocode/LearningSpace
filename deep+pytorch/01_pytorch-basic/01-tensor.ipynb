{
 "cells": [
  {
   "cell_type": "markdown",
   "metadata": {},
   "source": [
    "# Tensor\n",
    "> 배열(Array)나 행렬(Matrix)과 유사한 자료 구조.\n",
    "\n",
    "## 텐서 생성\n",
    "\n",
    "- `torch.tensor()` : 입력된 데이터를 복사해서(값이 무조건 필요) 텐서로 변환한다.\n",
    "- (권장) `torch.Tensor()` : 'Tensor'의 기본형, 텐서 인스턴스를 생성하는 클래스이다.(값이 없는 경우, 비어있는 텐서 생성)"
   ]
  },
  {
   "cell_type": "code",
   "execution_count": 3,
   "metadata": {},
   "outputs": [
    {
     "name": "stdout",
     "output_type": "stream",
     "text": [
      "tensor([0, 1, 2])\n",
      "tensor([[0., 1., 2.],\n",
      "        [3., 4., 5.]])\n",
      "tensor([0, 1, 2], dtype=torch.int32)\n",
      "tensor([0, 1, 2])\n",
      "tensor([0., 1., 2.])\n"
     ]
    }
   ],
   "source": [
    "import torch\n",
    "\n",
    "print(torch.tensor([0, 1, 2]))\n",
    "print(torch.Tensor([[0, 1, 2],[3, 4, 5]]))\n",
    "print(torch.IntTensor([0, 1, 2]))\n",
    "print(torch.LongTensor([0, 1, 2]))\n",
    "print(torch.FloatTensor([0., 1., 2.]))"
   ]
  },
  {
   "cell_type": "markdown",
   "metadata": {},
   "source": [
    "## Tensor Attribute\n",
    "\n",
    "- `형태(shape)`: 텐서의 차원\n",
    "- `자료형(dtype)`: 텐서에 할당된 데이터 형식\n",
    "- `장치(device)`: GPU 가속 여부\n",
    "\n",
    "## 차원 변환\n",
    "\n",
    "- `reshape`: 텐서의 차원 변환"
   ]
  },
  {
   "cell_type": "code",
   "execution_count": 17,
   "metadata": {},
   "outputs": [
    {
     "name": "stdout",
     "output_type": "stream",
     "text": [
      "tensor: tensor([[0.7993, 0.2064]]), shape: torch.Size([1, 2])\n",
      "tensor: tensor([[0.7993],\n",
      "        [0.2064]]), shape: torch.Size([2, 1])\n"
     ]
    }
   ],
   "source": [
    "tensor = torch.rand(1,2) # rand: 0과 1사이의 무작위 숫자를 균등 분포로 생성, 여기서 (1,2)는 생성하려는 텐서의 형태를 의미한다.\n",
    "print(f'tensor: {tensor}, shape: {tensor.shape}')\n",
    "\n",
    "retensor = tensor.reshape(2,1)\n",
    "print(f'tensor: {retensor}, shape: {retensor.shape}')"
   ]
  },
  {
   "cell_type": "markdown",
   "metadata": {},
   "source": [
    "## 자료형 설정(dtype)\n",
    "> `torch.*` 형태로 할당"
   ]
  },
  {
   "cell_type": "code",
   "execution_count": 22,
   "metadata": {},
   "outputs": [
    {
     "name": "stdout",
     "output_type": "stream",
     "text": [
      "tensor([[0.4341, 0.6366]], dtype=torch.float64)\n"
     ]
    }
   ],
   "source": [
    "tensor = torch.rand((1,2), dtype=torch.float64)\n",
    "print(tensor)"
   ]
  },
  {
   "cell_type": "markdown",
   "metadata": {},
   "source": [
    "## 장치 설정 및 장치 할당\n",
    "> 현재 맥북 M2 사용 (MPS)"
   ]
  },
  {
   "cell_type": "code",
   "execution_count": 27,
   "metadata": {},
   "outputs": [
    {
     "name": "stdout",
     "output_type": "stream",
     "text": [
      "tensor([[0.4312]], device='mps:0')\n",
      "cpu\n",
      "mps:0\n"
     ]
    }
   ],
   "source": [
    "device = \"mps\" if torch.backends.mps.is_available() else \"cpu\"\n",
    "\n",
    "gpu_tensor = torch.rand((1,1), device=device)\n",
    "print(gpu_tensor)\n",
    "\n",
    "# 장치 변환\n",
    "cpu_t = torch.FloatTensor([0, 1, 2])\n",
    "print(cpu_t.device)\n",
    "cpu_t = cpu_t.to(device)\n",
    "print(cpu_t.device)"
   ]
  }
 ],
 "metadata": {
  "kernelspec": {
   "display_name": "deep",
   "language": "python",
   "name": "python3"
  },
  "language_info": {
   "codemirror_mode": {
    "name": "ipython",
    "version": 3
   },
   "file_extension": ".py",
   "mimetype": "text/x-python",
   "name": "python",
   "nbconvert_exporter": "python",
   "pygments_lexer": "ipython3",
   "version": "3.9.19"
  }
 },
 "nbformat": 4,
 "nbformat_minor": 2
}
