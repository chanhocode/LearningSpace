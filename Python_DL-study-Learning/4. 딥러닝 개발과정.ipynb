{
 "cells": [
  {
   "cell_type": "markdown",
   "id": "bfd19e32",
   "metadata": {},
   "source": [
    "# 딥러닝 개발 과정 \n",
    "## 딥러닝 개발 과정"
   ]
  },
  {
   "cell_type": "markdown",
   "id": "8a296000",
   "metadata": {},
   "source": [
    "<img src=\"./img/딥러닝개발과정.jpg\" width=600 align=left>"
   ]
  },
  {
   "cell_type": "markdown",
   "id": "fcee2b52",
   "metadata": {},
   "source": [
    "### 1. 학습 데이터를 준비한다. \n",
    "- 데이타 전처리\n",
    "- 학습데이타, 검증데이타, 테스트데이타\n",
    "\n",
    "### 2. 데이터에 적합한 모델을 정의 한다. --> 층 구성\n",
    "- model = Sequential()\n",
    "- model.add(Dense(32, input_shape = (2, ), activation = 'relu')) \n",
    "- model.add(Dense(1, activation = 'sigmoid'))\n",
    "\n",
    "### 3. 컴파일 함수에 옵티마이저, 손실함수,  평가지표를 선택하여 학습 과정을 설정한다.\n",
    "- 회귀문제 – 평균제곱오차\n",
    "    - model.compile(optimizer= Adam(), loss=‘mse’ )\n",
    "- 이항 분류 문제\n",
    "    - model.compile(optimizer= Adam(), loss=‘binary_crossentropy’, metrics=['acc'])\n",
    "- 다항 분류 문제\n",
    "    - model.compile(optimizer= Adam(), loss=‘catrgorical_crossentropy’,  metrics=['acc'])\n",
    "    \n",
    "### 4. 모델을 학습 시킨다.\n",
    "- model.fit(data, label, epochs = 100)\n",
    "- model.fit(data, label, epochs = 100, validation_data=(val_data, val_label))\n",
    "\n",
    "### 5. 모델을 평가 및 예측한다.\n",
    "- model.evaluate(data, label)\n",
    "- model.predict(data)"
   ]
  },
  {
   "cell_type": "markdown",
   "id": "1e128fa6",
   "metadata": {},
   "source": [
    "---------------\n",
    "### 1. 학습 데이터를 정의한다. \n",
    "- 데이타 전처리\n",
    "- 학습데이타, 검증데이타, 테스트데이타"
   ]
  },
  {
   "cell_type": "markdown",
   "id": "f357b096",
   "metadata": {},
   "source": [
    "### 2. 데이터에 적합한 모델을 정의한다. --> 층 구성\n",
    "- Sequential()을 사용한 모델 구성"
   ]
  },
  {
   "cell_type": "code",
   "execution_count": 4,
   "id": "39d4c0b0",
   "metadata": {},
   "outputs": [],
   "source": [
    "from tensorflow.keras.models import Sequential\n",
    "from tensorflow.keras.layers import Dense\n",
    "\n",
    "# 모델 구성하기\n",
    "model = Sequential()\n",
    "model.add(Dense(32, input_shape = (2, ), activation = 'relu')) # 입력층 : 2개, 은닉층 : 32개 노드\n",
    "model.add(Dense(1, activation = 'sigmoid')) # 출력층 : 1개 "
   ]
  },
  {
   "cell_type": "markdown",
   "id": "df510aec",
   "metadata": {},
   "source": [
    "### 3. 컴파일 함수에 학습 과정을 설정한다.\n",
    "- 옵티마이저(optimizer), 손실함수(loss), 평가지표(metrics) 설정\n",
    "\n",
    "#### 1) 옵티마이저(optimizer)\n",
    "- 최적화 방법을 설정\n",
    "- SGD(), RMSProp(), Adam(), NAdam() 등이 있음\n",
    "- 옵티마이저를 설정하는 방법 2가지 : 클래스 형태, 문자열로 지정\n",
    "- tf.keras.optimizers 모듈 \n",
    "\n",
    "#### 2)  손실 함수(loss function)\n",
    "- 학습 과정에서 최적화시켜야 할 손실함수를 설정\n",
    "- 평균제곱오차(mse; mean_squared_error), binary_crossentropy, categorical_crossentropy\n",
    "- 문자열 형태로 지정하여 사용\n",
    "- tf.keras.losses 모듈 \n",
    "\n",
    "#### 3) 평가 지표(metrics)\n",
    "- 학습 과정을 모니터링하기 위해 설정\n",
    "- 객체를 호출하거나 'acc'와 같이 문자열 형태로 지정하여 전달할 수 있음\n",
    "- tf.keras.metrics 모듈"
   ]
  },
  {
   "cell_type": "code",
   "execution_count": 5,
   "id": "35f75672",
   "metadata": {},
   "outputs": [],
   "source": [
    "from tensorflow.keras.optimizers import RMSprop\n",
    "from tensorflow.keras.losses import mse\n",
    "\n",
    "# 회귀 문제 - 평균제곱오차(mse)\n",
    "model.compile(optimizer = RMSprop(), # optimizer = 'rmsprop'\n",
    "              loss = 'mse', \n",
    "              metrics = ['mae'])\n",
    "\n",
    "# 이항 분류 문제 - binary_crossentropy\n",
    "model.compile(optimizer = RMSprop(), \n",
    "              loss = 'binary_crossentropy', \n",
    "              metrics = ['acc'])\n",
    "\n",
    "# 다항 분류 문제 - categorical_crossentropy\n",
    "model.compile(optimizer = RMSprop(), \n",
    "              loss = 'categorical_crossentropy', \n",
    "              metrics = ['acc'])"
   ]
  },
  {
   "cell_type": "markdown",
   "id": "2c0723c9",
   "metadata": {},
   "source": [
    "### 4. 모델을 학습 시킨다.\n",
    "- model.fit() 함수\n",
    "- model.fit(입력데이타, 정답데이타, 에폭, 배치크기, 검증데이타)\n",
    "\n",
    "#### 1) 에폭(epochs)\n",
    "- 전체 학습 데이타를 몇 회 반복할지 결정\n",
    "\n",
    "#### 2) 배치 크기(batch size)\n",
    "- 전달할 배치 크기 만큼 학습 데이타를 나누어 학습을 진행\n",
    "\n",
    "#### 3) 검증 데이타(validation data)\n",
    "- 모델의 성능을 모니터링하기 위해 사용\n",
    "- 입력과 정답 데이타로 이루어진 검증 데이타를 전달하면 1회 에폭이 끝날 때마다 검증 데이타에서의 손실과 평가지표를 출력"
   ]
  },
  {
   "cell_type": "code",
   "execution_count": 9,
   "id": "c7387fbe",
   "metadata": {},
   "outputs": [],
   "source": [
    "model.fit(data, label, epochs = 100)\n",
    "model.fit(data, label, epochs = 100, validation_data=(val_data, val_label))"
   ]
  },
  {
   "cell_type": "markdown",
   "id": "e2fc5eaf",
   "metadata": {},
   "source": [
    "### 5. 모델을 평가 및 예측한다.\n",
    "- 모델 평가 : model.evaluate() \n",
    "    - 손실과 평가 지표에 대한 정보를 확인할 수 있다.\n",
    "- 모델 예측 : model.predict()\n",
    "    - 모델의 마지막 층의 형태와 동일한 형태를 가진 추론값을 전달한 데이타 개수만큼 반환해 준다."
   ]
  },
  {
   "cell_type": "code",
   "execution_count": null,
   "id": "a244e61c",
   "metadata": {},
   "outputs": [],
   "source": [
    "model.evaluate(data, label)"
   ]
  },
  {
   "cell_type": "code",
   "execution_count": null,
   "id": "8199d219",
   "metadata": {},
   "outputs": [],
   "source": [
    "model.predict(data)"
   ]
  }
 ],
 "metadata": {
  "kernelspec": {
   "display_name": "Python 3",
   "language": "python",
   "name": "python3"
  },
  "language_info": {
   "codemirror_mode": {
    "name": "ipython",
    "version": 3
   },
   "file_extension": ".py",
   "mimetype": "text/x-python",
   "name": "python",
   "nbconvert_exporter": "python",
   "pygments_lexer": "ipython3",
   "version": "3.7.6"
  }
 },
 "nbformat": 4,
 "nbformat_minor": 5
}
