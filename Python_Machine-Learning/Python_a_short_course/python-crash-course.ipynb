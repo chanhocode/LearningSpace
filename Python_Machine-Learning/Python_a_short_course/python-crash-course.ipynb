{
 "cells": [
  {
   "attachments": {},
   "cell_type": "markdown",
   "metadata": {},
   "source": [
    "# Daty Types\n",
    "\n",
    "- Number \n",
    "- String\n",
    "- Printing\n",
    "- Lists\n",
    "- Dictionaries\n",
    "- Tupels\n",
    "- Sets"
   ]
  },
  {
   "attachments": {},
   "cell_type": "markdown",
   "metadata": {},
   "source": [
    "## Variable Assignment\n"
   ]
  },
  {
   "cell_type": "code",
   "execution_count": 10,
   "metadata": {},
   "outputs": [
    {
     "name": "stdout",
     "output_type": "stream",
     "text": [
      "chanho 27 1 2 3\n"
     ]
    }
   ],
   "source": [
    "name = 'chanho'\n",
    "age = 27\n",
    "\n",
    "# Multiple Assignment\n",
    "a,b,c = 1,2,3\n",
    "print(name, age, a, b, c)"
   ]
  },
  {
   "attachments": {},
   "cell_type": "markdown",
   "metadata": {},
   "source": [
    "- String"
   ]
  },
  {
   "cell_type": "code",
   "execution_count": 11,
   "metadata": {},
   "outputs": [
    {
     "name": "stdout",
     "output_type": "stream",
     "text": [
      "5\n"
     ]
    }
   ],
   "source": [
    "data=\"hello\"\n",
    "type(data) # str\n",
    "data[0] # h\n",
    "data[-1] # o\n",
    "len(data) # 5\n",
    "\n",
    "# Slicing\n",
    "data[0:5] # hello"
   ]
  },
  {
   "attachments": {},
   "cell_type": "markdown",
   "metadata": {},
   "source": [
    "- printing"
   ]
  },
  {
   "cell_type": "code",
   "execution_count": 26,
   "metadata": {},
   "outputs": [
    {
     "name": "stdout",
     "output_type": "stream",
     "text": [
      "10: hello\n",
      "10: hello\n",
      "hello world\n"
     ]
    }
   ],
   "source": [
    "num = 10\n",
    "header = \"hello\"\n",
    "# print & format\n",
    "print('{}: {}'.format(num, header))\n",
    "# format에 변수를 이용해서 출력할 수 있다.\n",
    "print('{one}: {two}'.format(one=num, two=header)) # 10: hello\n",
    "\n",
    "# 문자열 연산\n",
    "# 문자열끼리 연산을 한다. 보통 문자열을 이어 붙일 때 덧셈 기호를 사용한다.\n",
    "print(\"hello \"+\"world\")"
   ]
  },
  {
   "attachments": {},
   "cell_type": "markdown",
   "metadata": {},
   "source": [
    "- List\n",
    "\n",
    ": 한개의 변수에 여러개의 값을 담는다."
   ]
  },
  {
   "cell_type": "code",
   "execution_count": 15,
   "metadata": {},
   "outputs": [
    {
     "name": "stdout",
     "output_type": "stream",
     "text": [
      "[1, 2, 3, 4, 5, 6]\n",
      "[1, 2, 3]\n"
     ]
    }
   ],
   "source": [
    "my_list = [1,2,3,4,5]\n",
    "# 추가\n",
    "my_list.append(6)\n",
    "print(my_list)\n",
    "\n",
    "# slicing\n",
    "print(my_list[0:3])"
   ]
  },
  {
   "attachments": {},
   "cell_type": "markdown",
   "metadata": {},
   "source": [
    "- Dictionaries"
   ]
  },
  {
   "cell_type": "code",
   "execution_count": 16,
   "metadata": {},
   "outputs": [
    {
     "name": "stdout",
     "output_type": "stream",
     "text": [
      "{'1': 'one', '2': 'two'}\n"
     ]
    }
   ],
   "source": [
    "d = {\n",
    "    '1': 'one',\n",
    "    '2': 'two'\n",
    "}\n",
    "print(d)"
   ]
  },
  {
   "attachments": {},
   "cell_type": "markdown",
   "metadata": {},
   "source": [
    "- Tuples\n",
    "\n",
    "소괄호로 표현한다.\n",
    "\n",
    "리스트와 차이: 값을 바꿀 수 없다."
   ]
  },
  {
   "cell_type": "code",
   "execution_count": 18,
   "metadata": {},
   "outputs": [
    {
     "name": "stdout",
     "output_type": "stream",
     "text": [
      "1\n"
     ]
    }
   ],
   "source": [
    "T = (1,2,3,4)\n",
    "print(T[0])"
   ]
  },
  {
   "attachments": {},
   "cell_type": "markdown",
   "metadata": {},
   "source": [
    "# Logic Operators"
   ]
  },
  {
   "attachments": {},
   "cell_type": "markdown",
   "metadata": {},
   "source": [
    "복합 조건 연산식\n",
    "\n",
    "2가지 이상의 조건연산식이 만족하는지 여부를 판단\n",
    "\n",
    "조건1 and 조건2: 조건1,2가 모두 만족하는지 판단\n",
    "\n",
    "조건1 or 조건2: 조건1,2중 하나만이라도 만족하는지 판단"
   ]
  },
  {
   "cell_type": "code",
   "execution_count": 19,
   "metadata": {},
   "outputs": [
    {
     "data": {
      "text/plain": [
       "False"
      ]
     },
     "execution_count": 19,
     "metadata": {},
     "output_type": "execute_result"
    }
   ],
   "source": [
    "# &&\n",
    "(1>2) and (2<3)"
   ]
  },
  {
   "cell_type": "code",
   "execution_count": 20,
   "metadata": {},
   "outputs": [
    {
     "data": {
      "text/plain": [
       "True"
      ]
     },
     "execution_count": 20,
     "metadata": {},
     "output_type": "execute_result"
    }
   ],
   "source": [
    "# ||\n",
    "(1>2) or (2<3)"
   ]
  },
  {
   "attachments": {},
   "cell_type": "markdown",
   "metadata": {},
   "source": [
    "### 조건 연산식\n",
    "\n",
    "특정 조건이 만족하는지 여부를 판단\n",
    "\n",
    "(if문 안에서)\n",
    "\n",
    "a == b : 동일한가?\n",
    "\n",
    "a != b : 다른가?\n",
    "\n",
    "a > b : a 가 b보다 큰가?\n",
    "\n",
    "a < b : a 가 b보다 작은가?\n",
    "\n",
    "a >= b : a 가 b 보다 같거나 큰가?\n",
    "\n",
    "a <= b : a 가 b 보다 같거나 작은가?"
   ]
  },
  {
   "attachments": {},
   "cell_type": "markdown",
   "metadata": {},
   "source": [
    "## if 비교: 조건에 따라 다른 처리"
   ]
  },
  {
   "cell_type": "code",
   "execution_count": 27,
   "metadata": {},
   "outputs": [
    {
     "name": "stdout",
     "output_type": "stream",
     "text": [
      "30세 미만입니다.\n"
     ]
    }
   ],
   "source": [
    "age = 27\n",
    "if(age <= 30):\n",
    "    print('30세 미만입니다.')\n",
    "else:\n",
    "    print('30세 이상입니다.')\n",
    "    \n",
    "# else에 조건을 주기위한 elif가 있다."
   ]
  },
  {
   "attachments": {},
   "cell_type": "markdown",
   "metadata": {},
   "source": [
    "## 반복문"
   ]
  },
  {
   "cell_type": "code",
   "execution_count": 28,
   "metadata": {},
   "outputs": [
    {
     "name": "stdout",
     "output_type": "stream",
     "text": [
      "55\n",
      "101: sum2 101\n"
     ]
    }
   ],
   "source": [
    "# for : 특정 횟수를 반복\n",
    "sum=0\n",
    "for i in range(1, 11): # 1~10을 반복\n",
    "    sum += i\n",
    "print(sum) #55\n",
    "\n",
    "# while : 특정 조건이 만족할 때까지 반복\n",
    "sum2=0\n",
    "i=0\n",
    "while sum2<=100: # 합계가 100 이하인 경우 반복\n",
    "    i = i + 1\n",
    "    sum2 += 1\n",
    "print('{}: sum2 {}'.format(i, sum2))\n"
   ]
  },
  {
   "attachments": {},
   "cell_type": "markdown",
   "metadata": {},
   "source": [
    "# List Comprehension"
   ]
  },
  {
   "cell_type": "code",
   "execution_count": 21,
   "metadata": {},
   "outputs": [
    {
     "data": {
      "text/plain": [
       "[1, 4, 9, 16, 25]"
      ]
     },
     "execution_count": 21,
     "metadata": {},
     "output_type": "execute_result"
    }
   ],
   "source": [
    "x = [1,2,3,4,5]\n",
    "out = []\n",
    "for i in x:\n",
    "    out.append(i**2)\n",
    "out"
   ]
  },
  {
   "cell_type": "code",
   "execution_count": 22,
   "metadata": {},
   "outputs": [
    {
     "data": {
      "text/plain": [
       "[1, 4, 9, 16, 25]"
      ]
     },
     "execution_count": 22,
     "metadata": {},
     "output_type": "execute_result"
    }
   ],
   "source": [
    "[i**2 for i in x]"
   ]
  },
  {
   "attachments": {},
   "cell_type": "markdown",
   "metadata": {},
   "source": [
    "# Function\n",
    "\n",
    "변수=함수명()\n",
    "\n",
    "변수=함수명(변수/연산식)\n",
    "\n",
    "변수=함수명(변수/연산식, 변수/연산식, ...)\n",
    "\n",
    "def 함수명(인자):\n",
    "    <코드블럭>"
   ]
  },
  {
   "cell_type": "code",
   "execution_count": 23,
   "metadata": {},
   "outputs": [
    {
     "name": "stdout",
     "output_type": "stream",
     "text": [
      "4\n"
     ]
    }
   ],
   "source": [
    "def mysum(x, y):\n",
    "    sum = x + y\n",
    "    return sum\n",
    "\n",
    "print(mysum(1,3))"
   ]
  },
  {
   "attachments": {},
   "cell_type": "markdown",
   "metadata": {},
   "source": [
    "## lambda expressions\n",
    "\n",
    "1. lambda<인자> : <인자 활용 수행 코드>\n",
    "\n",
    "2. (lambda <인자> : <인자 활용 수행 코드>)(<인자>)"
   ]
  },
  {
   "cell_type": "code",
   "execution_count": 24,
   "metadata": {},
   "outputs": [
    {
     "data": {
      "text/plain": [
       "100"
      ]
     },
     "execution_count": 24,
     "metadata": {},
     "output_type": "execute_result"
    }
   ],
   "source": [
    "def test(x):\n",
    "    return x * 10\n",
    "\n",
    "test(10)"
   ]
  },
  {
   "cell_type": "code",
   "execution_count": 25,
   "metadata": {},
   "outputs": [
    {
     "data": {
      "text/plain": [
       "100"
      ]
     },
     "execution_count": 25,
     "metadata": {},
     "output_type": "execute_result"
    }
   ],
   "source": [
    "# lambda\n",
    "(lambda x: x * 10)(10)"
   ]
  }
 ],
 "metadata": {
  "kernelspec": {
   "display_name": "base",
   "language": "python",
   "name": "python3"
  },
  "language_info": {
   "codemirror_mode": {
    "name": "ipython",
    "version": 3
   },
   "file_extension": ".py",
   "mimetype": "text/x-python",
   "name": "python",
   "nbconvert_exporter": "python",
   "pygments_lexer": "ipython3",
   "version": "3.10.9"
  },
  "orig_nbformat": 4
 },
 "nbformat": 4,
 "nbformat_minor": 2
}
